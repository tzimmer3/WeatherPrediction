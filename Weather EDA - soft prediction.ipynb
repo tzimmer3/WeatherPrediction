{
 "cells": [
  {
   "cell_type": "markdown",
   "metadata": {},
   "source": [
    "This notebook does not work all the way through"
   ]
  },
  {
   "cell_type": "markdown",
   "metadata": {},
   "source": [
    "# Import Package"
   ]
  },
  {
   "cell_type": "code",
   "execution_count": 12,
   "metadata": {
    "ExecuteTime": {
     "end_time": "2021-02-23T03:05:28.849633Z",
     "start_time": "2021-02-23T03:05:16.082130Z"
    },
    "code_folding": [
     0
    ]
   },
   "outputs": [],
   "source": [
    "# General Packages\n",
    "import numpy as np\n",
    "import pandas as pd\n",
    "import matplotlib.pyplot as plt\n",
    "import seaborn as sns\n",
    "\n",
    "# Time Series Package\n",
    "import pmdarima as pm\n",
    "from datetime import datetime\n",
    "\n",
    "#import cufflinks as cf\n",
    "#from plotly.offline import download_plotlyjs, init_notebook_mode, plot, iplot\n",
    "#init_notebook_mode(connected=True)\n",
    "#import plotly.graph_objs as go\n",
    "#import matplotlib.cm as cm\n",
    "#from dateutil.relativedelta import relativedelta\n",
    "\n",
    "# Continuous Model Custom Packages\n",
    "from custom_packages import residuals_vs_fitted, accuracy_table\n",
    "\n",
    "# Time Series Custom Packages\n",
    "from custom_packages import remove_date_column, train_test_split_dates, create_dates_days, create_dates_weeks, create_dates_months, df_constructor_predictions\n",
    "from custom_packages import date_slicer_start, date_slicer_end, date_slicer_window, date_slicer_range, set_date_index, datetime_datatype\n",
    "from custom_packages import acf_plot, seasonal_plot"
   ]
  },
  {
   "cell_type": "markdown",
   "metadata": {},
   "source": [
    "# Import Data"
   ]
  },
  {
   "cell_type": "code",
   "execution_count": 13,
   "metadata": {
    "ExecuteTime": {
     "end_time": "2021-02-23T03:06:06.744390Z",
     "start_time": "2021-02-23T03:06:06.654228Z"
    }
   },
   "outputs": [],
   "source": [
    "filepath = \"C:\\\\Users\\\\hlmq\\\\OneDrive - Chevron\\\\Data\\\\WeatherProject\\\\\"\n",
    "\n",
    "#df_2018 = pd.read_csv(str(filepath)+'2018.csv')\n",
    "#df_2019 = pd.read_csv(str(filepath)+'2019.csv')\n",
    "#df_2020 = pd.read_csv(str(filepath)+'2020.csv')\n",
    "#df_2021 = pd.read_csv(str(filepath)+'2021.csv')\n",
    "allDates = pd.read_csv(str(filepath)+'allDates.csv')"
   ]
  },
  {
   "cell_type": "code",
   "execution_count": 14,
   "metadata": {
    "ExecuteTime": {
     "end_time": "2021-02-23T03:29:30.840874Z",
     "start_time": "2021-02-23T03:29:30.808615Z"
    }
   },
   "outputs": [
    {
     "data": {
      "text/html": [
       "<div>\n",
       "<style scoped>\n",
       "    .dataframe tbody tr th:only-of-type {\n",
       "        vertical-align: middle;\n",
       "    }\n",
       "\n",
       "    .dataframe tbody tr th {\n",
       "        vertical-align: top;\n",
       "    }\n",
       "\n",
       "    .dataframe thead th {\n",
       "        text-align: right;\n",
       "    }\n",
       "</style>\n",
       "<table border=\"1\" class=\"dataframe\">\n",
       "  <thead>\n",
       "    <tr style=\"text-align: right;\">\n",
       "      <th></th>\n",
       "      <th>Date</th>\n",
       "      <th>Max_Temp</th>\n",
       "      <th>Avg_Temp</th>\n",
       "      <th>Min_Temp</th>\n",
       "      <th>Max_DewPoint</th>\n",
       "      <th>Avg_DewPoint</th>\n",
       "      <th>Min_DewPoint</th>\n",
       "      <th>Max_Humidity</th>\n",
       "      <th>Avg_Humidity</th>\n",
       "      <th>Min_Humidity</th>\n",
       "      <th>Max_Windspeed</th>\n",
       "      <th>Avg_Windspeed</th>\n",
       "      <th>Min_Windspeed</th>\n",
       "      <th>Max_Pressure</th>\n",
       "      <th>Avg_Pressure</th>\n",
       "      <th>Min_Pressure</th>\n",
       "      <th>Precipitation</th>\n",
       "    </tr>\n",
       "  </thead>\n",
       "  <tbody>\n",
       "    <tr>\n",
       "      <th>0</th>\n",
       "      <td>1/1/2018</td>\n",
       "      <td>38</td>\n",
       "      <td>30.8</td>\n",
       "      <td>26</td>\n",
       "      <td>22</td>\n",
       "      <td>11.9</td>\n",
       "      <td>9</td>\n",
       "      <td>64</td>\n",
       "      <td>46.1</td>\n",
       "      <td>33</td>\n",
       "      <td>22</td>\n",
       "      <td>17.3</td>\n",
       "      <td>13</td>\n",
       "      <td>30.4</td>\n",
       "      <td>30.3</td>\n",
       "      <td>30.2</td>\n",
       "      <td>0.11</td>\n",
       "    </tr>\n",
       "    <tr>\n",
       "      <th>1</th>\n",
       "      <td>1/2/2018</td>\n",
       "      <td>43</td>\n",
       "      <td>32.8</td>\n",
       "      <td>23</td>\n",
       "      <td>17</td>\n",
       "      <td>12.5</td>\n",
       "      <td>10</td>\n",
       "      <td>63</td>\n",
       "      <td>45.1</td>\n",
       "      <td>26</td>\n",
       "      <td>15</td>\n",
       "      <td>10.3</td>\n",
       "      <td>5</td>\n",
       "      <td>30.4</td>\n",
       "      <td>30.3</td>\n",
       "      <td>30.2</td>\n",
       "      <td>0.00</td>\n",
       "    </tr>\n",
       "    <tr>\n",
       "      <th>2</th>\n",
       "      <td>1/3/2018</td>\n",
       "      <td>45</td>\n",
       "      <td>36.8</td>\n",
       "      <td>32</td>\n",
       "      <td>19</td>\n",
       "      <td>14.4</td>\n",
       "      <td>9</td>\n",
       "      <td>59</td>\n",
       "      <td>41.2</td>\n",
       "      <td>23</td>\n",
       "      <td>16</td>\n",
       "      <td>9.5</td>\n",
       "      <td>5</td>\n",
       "      <td>30.2</td>\n",
       "      <td>30.1</td>\n",
       "      <td>30.0</td>\n",
       "      <td>0.00</td>\n",
       "    </tr>\n",
       "    <tr>\n",
       "      <th>3</th>\n",
       "      <td>1/4/2018</td>\n",
       "      <td>47</td>\n",
       "      <td>36.0</td>\n",
       "      <td>27</td>\n",
       "      <td>17</td>\n",
       "      <td>12.8</td>\n",
       "      <td>10</td>\n",
       "      <td>56</td>\n",
       "      <td>39.3</td>\n",
       "      <td>25</td>\n",
       "      <td>17</td>\n",
       "      <td>11.0</td>\n",
       "      <td>6</td>\n",
       "      <td>30.2</td>\n",
       "      <td>30.1</td>\n",
       "      <td>30.1</td>\n",
       "      <td>0.00</td>\n",
       "    </tr>\n",
       "    <tr>\n",
       "      <th>4</th>\n",
       "      <td>1/5/2018</td>\n",
       "      <td>52</td>\n",
       "      <td>38.0</td>\n",
       "      <td>29</td>\n",
       "      <td>27</td>\n",
       "      <td>15.6</td>\n",
       "      <td>6</td>\n",
       "      <td>73</td>\n",
       "      <td>43.1</td>\n",
       "      <td>20</td>\n",
       "      <td>9</td>\n",
       "      <td>4.5</td>\n",
       "      <td>0</td>\n",
       "      <td>30.3</td>\n",
       "      <td>30.3</td>\n",
       "      <td>30.2</td>\n",
       "      <td>0.00</td>\n",
       "    </tr>\n",
       "  </tbody>\n",
       "</table>\n",
       "</div>"
      ],
      "text/plain": [
       "       Date  Max_Temp  Avg_Temp  Min_Temp  Max_DewPoint  Avg_DewPoint  \\\n",
       "0  1/1/2018        38      30.8        26            22          11.9   \n",
       "1  1/2/2018        43      32.8        23            17          12.5   \n",
       "2  1/3/2018        45      36.8        32            19          14.4   \n",
       "3  1/4/2018        47      36.0        27            17          12.8   \n",
       "4  1/5/2018        52      38.0        29            27          15.6   \n",
       "\n",
       "   Min_DewPoint  Max_Humidity  Avg_Humidity  Min_Humidity  Max_Windspeed  \\\n",
       "0             9            64          46.1            33             22   \n",
       "1            10            63          45.1            26             15   \n",
       "2             9            59          41.2            23             16   \n",
       "3            10            56          39.3            25             17   \n",
       "4             6            73          43.1            20              9   \n",
       "\n",
       "   Avg_Windspeed  Min_Windspeed  Max_Pressure  Avg_Pressure  Min_Pressure  \\\n",
       "0           17.3             13          30.4          30.3          30.2   \n",
       "1           10.3              5          30.4          30.3          30.2   \n",
       "2            9.5              5          30.2          30.1          30.0   \n",
       "3           11.0              6          30.2          30.1          30.1   \n",
       "4            4.5              0          30.3          30.3          30.2   \n",
       "\n",
       "   Precipitation  \n",
       "0           0.11  \n",
       "1           0.00  \n",
       "2           0.00  \n",
       "3           0.00  \n",
       "4           0.00  "
      ]
     },
     "execution_count": 14,
     "metadata": {},
     "output_type": "execute_result"
    }
   ],
   "source": [
    "allDates.head()"
   ]
  },
  {
   "cell_type": "code",
   "execution_count": 15,
   "metadata": {
    "ExecuteTime": {
     "end_time": "2021-02-23T03:29:27.892558Z",
     "start_time": "2021-02-23T03:29:27.868620Z"
    }
   },
   "outputs": [],
   "source": [
    "# Construct binary column for precipitation\n",
    "\n",
    "allDates.loc[allDates['Precipitation'] < .1, 'Precipitation_Bin'] = 0\n",
    "allDates.loc[allDates['Precipitation'] > .1, 'Precipitation_Bin'] = 1"
   ]
  },
  {
   "cell_type": "markdown",
   "metadata": {},
   "source": [
    "# Weather EDA"
   ]
  },
  {
   "cell_type": "code",
   "execution_count": 16,
   "metadata": {
    "ExecuteTime": {
     "end_time": "2021-02-23T03:29:44.017996Z",
     "start_time": "2021-02-23T03:29:44.002034Z"
    }
   },
   "outputs": [],
   "source": [
    "df = allDates"
   ]
  },
  {
   "cell_type": "code",
   "execution_count": 17,
   "metadata": {
    "ExecuteTime": {
     "end_time": "2021-02-23T03:29:44.801170Z",
     "start_time": "2021-02-23T03:29:44.789811Z"
    }
   },
   "outputs": [
    {
     "data": {
      "text/plain": [
       "Index(['Date', 'Max_Temp', 'Avg_Temp', 'Min_Temp', 'Max_DewPoint',\n",
       "       'Avg_DewPoint', 'Min_DewPoint', 'Max_Humidity', 'Avg_Humidity',\n",
       "       'Min_Humidity', 'Max_Windspeed', 'Avg_Windspeed', 'Min_Windspeed',\n",
       "       'Max_Pressure', 'Avg_Pressure', 'Min_Pressure', 'Precipitation',\n",
       "       'Precipitation_Bin'],\n",
       "      dtype='object')"
      ]
     },
     "execution_count": 17,
     "metadata": {},
     "output_type": "execute_result"
    }
   ],
   "source": [
    "df.columns"
   ]
  },
  {
   "cell_type": "code",
   "execution_count": 18,
   "metadata": {
    "ExecuteTime": {
     "end_time": "2021-02-23T03:29:59.680160Z",
     "start_time": "2021-02-23T03:29:59.668191Z"
    }
   },
   "outputs": [],
   "source": [
    "# Init data and variaables\n",
    "value = 'Avg_DewPoint'\n",
    "\n",
    "# Filter to the specific window\n",
    "investigate = date_slicer_window(df, '2020-01-02','2020-02-02')\n",
    "\n",
    "# Check specific values by using the value\n",
    "#check_value = pd.DataFrame()\n",
    "#check_value = investigate[investigate[value] < 40]"
   ]
  },
  {
   "cell_type": "code",
   "execution_count": 19,
   "metadata": {
    "ExecuteTime": {
     "end_time": "2021-02-23T03:30:00.934989Z",
     "start_time": "2021-02-23T03:30:00.914972Z"
    },
    "code_folding": [
     0
    ]
   },
   "outputs": [
    {
     "name": "stdout",
     "output_type": "stream",
     "text": [
      "Summary Statistics for Avg_DewPoint column :\n",
      "Max - 69.9\n",
      "Min - 21.0\n",
      "Standard Deviation - 13.372502681135991\n",
      "Average - 48.91290322580645\n",
      "Median - 47.2\n"
     ]
    }
   ],
   "source": [
    "# Compute summary stats\n",
    "print(\"Summary Statistics for\", value,\"column :\")\n",
    "print(\"Max -\", investigate[value].max())\n",
    "print(\"Min -\", investigate[value].min())\n",
    "print(\"Standard Deviation -\", investigate[value].std())\n",
    "print(\"Average -\", investigate[value].mean())\n",
    "print(\"Median -\", np.percentile(investigate[value],50))"
   ]
  },
  {
   "cell_type": "code",
   "execution_count": 20,
   "metadata": {
    "ExecuteTime": {
     "end_time": "2021-02-23T03:30:02.750046Z",
     "start_time": "2021-02-23T03:30:02.389971Z"
    },
    "code_folding": [
     0
    ]
   },
   "outputs": [
    {
     "data": {
      "text/plain": [
       "<AxesSubplot:>"
      ]
     },
     "execution_count": 20,
     "metadata": {},
     "output_type": "execute_result"
    },
    {
     "data": {
      "image/png": "[encoded data removed]",
      "text/plain": [
       "<Figure size 432x288 with 1 Axes>"
      ]
     },
     "metadata": {
      "needs_background": "light"
     },
     "output_type": "display_data"
    }
   ],
   "source": [
    "# Histogram\n",
    "investigate[value].hist()"
   ]
  },
  {
   "cell_type": "code",
   "execution_count": 21,
   "metadata": {
    "ExecuteTime": {
     "end_time": "2021-02-23T03:30:03.814324Z",
     "start_time": "2021-02-23T03:30:03.464264Z"
    },
    "code_folding": [
     0
    ]
   },
   "outputs": [
    {
     "data": {
      "image/png": "[encoded data removed]",
      "text/plain": [
       "<Figure size 432x288 with 1 Axes>"
      ]
     },
     "metadata": {
      "needs_background": "light"
     },
     "output_type": "display_data"
    }
   ],
   "source": [
    "# Scatter Plot. Date and Value column\n",
    "investigate.reset_index(drop=True, inplace=True)\n",
    "ax1 = investigate.plot.scatter(x=\"Date\",\n",
    "                               y=value,\n",
    "                               c='DarkBlue')"
   ]
  },
  {
   "cell_type": "code",
   "execution_count": 22,
   "metadata": {
    "ExecuteTime": {
     "end_time": "2021-02-23T03:30:13.485807Z",
     "start_time": "2021-02-23T03:30:13.175680Z"
    }
   },
   "outputs": [
    {
     "data": {
      "image/png": "[encoded data removed]",
      "text/plain": [
       "<Figure size 432x288 with 1 Axes>"
      ]
     },
     "metadata": {
      "needs_background": "light"
     },
     "output_type": "display_data"
    }
   ],
   "source": [
    "# Box Plot\n",
    "ax = sns.boxplot(x=\"Precipitation_Bin\", y=value, data=investigate)"
   ]
  },
  {
   "cell_type": "markdown",
   "metadata": {},
   "source": [
    "# Weather Time Series"
   ]
  },
  {
   "cell_type": "code",
   "execution_count": 23,
   "metadata": {
    "ExecuteTime": {
     "end_time": "2021-02-18T17:34:23.220222Z",
     "start_time": "2021-02-18T17:34:23.196287Z"
    }
   },
   "outputs": [],
   "source": [
    "# Slice DataFrame to desired date range\n",
    "\n",
    "# Takes 2 arguments: DF to be sliced, start date\n",
    "df = date_slicer_start(allDates, '2020-01-31')"
   ]
  },
  {
   "cell_type": "code",
   "execution_count": 24,
   "metadata": {
    "ExecuteTime": {
     "end_time": "2021-02-18T17:34:24.244984Z",
     "start_time": "2021-02-18T17:34:24.234978Z"
    }
   },
   "outputs": [
    {
     "data": {
      "text/plain": [
       "Index(['Date', 'Max_Temp', 'Avg_Temp', 'Min_Temp', 'Max_DewPoint',\n",
       "       'Avg_DewPoint', 'Min_DewPoint', 'Max_Humidity', 'Avg_Humidity',\n",
       "       'Min_Humidity', 'Max_Windspeed', 'Avg_Windspeed', 'Min_Windspeed',\n",
       "       'Max_Pressure', 'Avg_Pressure', 'Min_Pressure', 'Precipitation',\n",
       "       'Precipitation_Bin'],\n",
       "      dtype='object')"
      ]
     },
     "execution_count": 24,
     "metadata": {},
     "output_type": "execute_result"
    }
   ],
   "source": [
    "df.columns"
   ]
  },
  {
   "cell_type": "code",
   "execution_count": 25,
   "metadata": {
    "ExecuteTime": {
     "end_time": "2021-02-23T03:08:12.288131Z",
     "start_time": "2021-02-23T03:08:12.269901Z"
    }
   },
   "outputs": [],
   "source": [
    "# Decide which value column to visualize\n",
    "\n",
    "# # # # EDIT THIS COLUMN NAME # # # #\n",
    "value = 'Avg_DewPoint'\n",
    "# # # # # # # # # # # # # # # # # # #\n",
    "\n",
    "# Partition the DF to only one value column\n",
    "columns = ['Date',value]\n",
    "df = df[columns]\n",
    "\n",
    "# Set the Date column as the index for the new DF\n",
    "df.Date = pd.to_datetime(df.Date)\n",
    "df = df.set_index('Date')"
   ]
  },
  {
   "cell_type": "code",
   "execution_count": 26,
   "metadata": {
    "ExecuteTime": {
     "end_time": "2021-02-23T03:08:13.552463Z",
     "start_time": "2021-02-23T03:08:13.519314Z"
    }
   },
   "outputs": [
    {
     "data": {
      "text/html": [
       "<div>\n",
       "<style scoped>\n",
       "    .dataframe tbody tr th:only-of-type {\n",
       "        vertical-align: middle;\n",
       "    }\n",
       "\n",
       "    .dataframe tbody tr th {\n",
       "        vertical-align: top;\n",
       "    }\n",
       "\n",
       "    .dataframe thead th {\n",
       "        text-align: right;\n",
       "    }\n",
       "</style>\n",
       "<table border=\"1\" class=\"dataframe\">\n",
       "  <thead>\n",
       "    <tr style=\"text-align: right;\">\n",
       "      <th></th>\n",
       "      <th>Avg_DewPoint</th>\n",
       "    </tr>\n",
       "    <tr>\n",
       "      <th>Date</th>\n",
       "      <th></th>\n",
       "    </tr>\n",
       "  </thead>\n",
       "  <tbody>\n",
       "    <tr>\n",
       "      <th>2020-01-31</th>\n",
       "      <td>50.9</td>\n",
       "    </tr>\n",
       "    <tr>\n",
       "      <th>2020-02-01</th>\n",
       "      <td>47.2</td>\n",
       "    </tr>\n",
       "    <tr>\n",
       "      <th>2020-02-02</th>\n",
       "      <td>41.4</td>\n",
       "    </tr>\n",
       "    <tr>\n",
       "      <th>2020-02-03</th>\n",
       "      <td>52.8</td>\n",
       "    </tr>\n",
       "    <tr>\n",
       "      <th>2020-02-04</th>\n",
       "      <td>62.4</td>\n",
       "    </tr>\n",
       "  </tbody>\n",
       "</table>\n",
       "</div>"
      ],
      "text/plain": [
       "            Avg_DewPoint\n",
       "Date                    \n",
       "2020-01-31          50.9\n",
       "2020-02-01          47.2\n",
       "2020-02-02          41.4\n",
       "2020-02-03          52.8\n",
       "2020-02-04          62.4"
      ]
     },
     "execution_count": 26,
     "metadata": {},
     "output_type": "execute_result"
    }
   ],
   "source": [
    "df.head()"
   ]
  },
  {
   "cell_type": "code",
   "execution_count": 27,
   "metadata": {
    "ExecuteTime": {
     "end_time": "2021-02-23T03:09:21.274265Z",
     "start_time": "2021-02-23T03:09:21.224342Z"
    }
   },
   "outputs": [],
   "source": [
    "# Week Function\n",
    "df1 = pd.DataFrame()\n",
    "df1[value] = df[value].resample('W').mean()"
   ]
  },
  {
   "cell_type": "code",
   "execution_count": 28,
   "metadata": {
    "ExecuteTime": {
     "end_time": "2021-02-23T03:09:44.670041Z",
     "start_time": "2021-02-23T03:09:44.641048Z"
    }
   },
   "outputs": [],
   "source": [
    "# Month Function\n",
    "df1 = pd.DataFrame()\n",
    "df1[value] = df[value].resample('M').mean()"
   ]
  },
  {
   "cell_type": "code",
   "execution_count": 29,
   "metadata": {
    "ExecuteTime": {
     "end_time": "2021-02-23T03:09:15.963520Z",
     "start_time": "2021-02-23T03:09:15.242433Z"
    }
   },
   "outputs": [
    {
     "data": {
      "image/png": "[encoded data removed]",
      "text/plain": [
       "<Figure size 1080x432 with 1 Axes>"
      ]
     },
     "metadata": {
      "needs_background": "light"
     },
     "output_type": "display_data"
    }
   ],
   "source": [
    "df.plot(figsize=(15, 6))\n",
    "plt.show()"
   ]
  },
  {
   "cell_type": "code",
   "execution_count": 30,
   "metadata": {
    "ExecuteTime": {
     "end_time": "2021-02-23T03:09:48.802662Z",
     "start_time": "2021-02-23T03:09:47.929035Z"
    }
   },
   "outputs": [
    {
     "data": {
      "image/png": "[encoded data removed]",
      "text/plain": [
       "<Figure size 432x288 with 1 Axes>"
      ]
     },
     "metadata": {
      "needs_background": "light"
     },
     "output_type": "display_data"
    }
   ],
   "source": [
    "# How to read the ACF Plot?\n",
    "acf_plot(df1)"
   ]
  },
  {
   "cell_type": "code",
   "execution_count": 32,
   "metadata": {
    "ExecuteTime": {
     "end_time": "2021-02-23T03:10:10.985497Z",
     "start_time": "2021-02-23T03:10:09.014876Z"
    }
   },
   "outputs": [
    {
     "ename": "UnboundLocalError",
     "evalue": "local variable 'x' referenced before assignment",
     "output_type": "error",
     "traceback": [
      "\u001b[1;31m---------------------------------------------------------------------------\u001b[0m",
      "\u001b[1;31mUnboundLocalError\u001b[0m                         Traceback (most recent call last)",
      "\u001b[1;32mc:\\Users\\hlmq\\OneDrive - Chevron\\code\\WeatherPrediction\\Weather EDA - soft prediction.ipynb Cell 24'\u001b[0m in \u001b[0;36m<cell line: 1>\u001b[1;34m()\u001b[0m\n\u001b[1;32m----> <a href='vscode-notebook-cell:/c%3A/Users/hlmq/OneDrive%20-%20Chevron/code/WeatherPrediction/Weather%20EDA%20-%20soft%20prediction.ipynb#ch0000031?line=0'>1</a>\u001b[0m seasonal_plot(df1, \u001b[39m10\u001b[39;49m)\n",
      "File \u001b[1;32mc:\\Users\\hlmq\\OneDrive - Chevron\\code\\WeatherPrediction\\custom_packages\\Time_Series_Diagnostics.py:57\u001b[0m, in \u001b[0;36mseasonal_plot\u001b[1;34m(data, x_period)\u001b[0m\n\u001b[0;32m     <a href='file:///c%3A/Users/hlmq/OneDrive%20-%20Chevron/code/WeatherPrediction/custom_packages/Time_Series_Diagnostics.py?line=54'>55</a>\u001b[0m \u001b[39melif\u001b[39;00m x_period \u001b[39m==\u001b[39m \u001b[39m\"\u001b[39m\u001b[39mquarter\u001b[39m\u001b[39m\"\u001b[39m:\n\u001b[0;32m     <a href='file:///c%3A/Users/hlmq/OneDrive%20-%20Chevron/code/WeatherPrediction/custom_packages/Time_Series_Diagnostics.py?line=55'>56</a>\u001b[0m     x \u001b[39m=\u001b[39m data\u001b[39m.\u001b[39mindex\u001b[39m.\u001b[39mquarter[data\u001b[39m.\u001b[39mindex\u001b[39m.\u001b[39myear \u001b[39m==\u001b[39m year]\n\u001b[1;32m---> <a href='file:///c%3A/Users/hlmq/OneDrive%20-%20Chevron/code/WeatherPrediction/custom_packages/Time_Series_Diagnostics.py?line=56'>57</a>\u001b[0m \u001b[39massert\u001b[39;00m (x\u001b[39m.\u001b[39mnunique() \u001b[39m==\u001b[39m \u001b[39mlen\u001b[39m(x)), \u001b[39m\"\u001b[39m\u001b[39mNon-unique y-values for each x-value.  Edit data or try increasing the granularity of x_period.\u001b[39m\u001b[39m\"\u001b[39m\n\u001b[0;32m     <a href='file:///c%3A/Users/hlmq/OneDrive%20-%20Chevron/code/WeatherPrediction/custom_packages/Time_Series_Diagnostics.py?line=58'>59</a>\u001b[0m y \u001b[39m=\u001b[39m data\u001b[39m.\u001b[39miloc[:,\u001b[39m0\u001b[39m][data\u001b[39m.\u001b[39mindex\u001b[39m.\u001b[39myear \u001b[39m==\u001b[39m year]\n\u001b[0;32m     <a href='file:///c%3A/Users/hlmq/OneDrive%20-%20Chevron/code/WeatherPrediction/custom_packages/Time_Series_Diagnostics.py?line=59'>60</a>\u001b[0m traces\u001b[39m.\u001b[39mappend(\n\u001b[0;32m     <a href='file:///c%3A/Users/hlmq/OneDrive%20-%20Chevron/code/WeatherPrediction/custom_packages/Time_Series_Diagnostics.py?line=60'>61</a>\u001b[0m     go\u001b[39m.\u001b[39mScatter(\n\u001b[0;32m     <a href='file:///c%3A/Users/hlmq/OneDrive%20-%20Chevron/code/WeatherPrediction/custom_packages/Time_Series_Diagnostics.py?line=61'>62</a>\u001b[0m         x \u001b[39m=\u001b[39m x,\n\u001b[1;32m   (...)\u001b[0m\n\u001b[0;32m     <a href='file:///c%3A/Users/hlmq/OneDrive%20-%20Chevron/code/WeatherPrediction/custom_packages/Time_Series_Diagnostics.py?line=70'>71</a>\u001b[0m     )\n\u001b[0;32m     <a href='file:///c%3A/Users/hlmq/OneDrive%20-%20Chevron/code/WeatherPrediction/custom_packages/Time_Series_Diagnostics.py?line=71'>72</a>\u001b[0m )\n",
      "\u001b[1;31mUnboundLocalError\u001b[0m: local variable 'x' referenced before assignment"
     ]
    }
   ],
   "source": [
    "seasonal_plot(df1, 10)"
   ]
  },
  {
   "cell_type": "markdown",
   "metadata": {
    "heading_collapsed": true
   },
   "source": [
    "# Weather Time Series Prediction"
   ]
  },
  {
   "cell_type": "code",
   "execution_count": 33,
   "metadata": {
    "ExecuteTime": {
     "end_time": "2021-02-18T17:35:18.602197Z",
     "start_time": "2021-02-18T17:35:14.416292Z"
    },
    "hidden": true
   },
   "outputs": [
    {
     "ename": "ValueError",
     "evalue": "shapes (4,2) and (1,) not aligned: 2 (dim 1) != 1 (dim 0)",
     "output_type": "error",
     "traceback": [
      "\u001b[1;31m---------------------------------------------------------------------------\u001b[0m",
      "\u001b[1;31mValueError\u001b[0m                                Traceback (most recent call last)",
      "\u001b[1;32mc:\\Users\\hlmq\\OneDrive - Chevron\\code\\WeatherPrediction\\Weather EDA - soft prediction.ipynb Cell 26'\u001b[0m in \u001b[0;36m<cell line: 1>\u001b[1;34m()\u001b[0m\n\u001b[1;32m----> <a href='vscode-notebook-cell:/c%3A/Users/hlmq/OneDrive%20-%20Chevron/code/WeatherPrediction/Weather%20EDA%20-%20soft%20prediction.ipynb#ch0000033?line=0'>1</a>\u001b[0m fit \u001b[39m=\u001b[39m pm\u001b[39m.\u001b[39;49mauto_arima(df1, seasonal\u001b[39m=\u001b[39;49m\u001b[39mTrue\u001b[39;49;00m, \n\u001b[0;32m      <a href='vscode-notebook-cell:/c%3A/Users/hlmq/OneDrive%20-%20Chevron/code/WeatherPrediction/Weather%20EDA%20-%20soft%20prediction.ipynb#ch0000033?line=1'>2</a>\u001b[0m                     stepwise\u001b[39m=\u001b[39;49m\u001b[39mTrue\u001b[39;49;00m, error_action\u001b[39m=\u001b[39;49m\u001b[39m\"\u001b[39;49m\u001b[39mignore\u001b[39;49m\u001b[39m\"\u001b[39;49m, \n\u001b[0;32m      <a href='vscode-notebook-cell:/c%3A/Users/hlmq/OneDrive%20-%20Chevron/code/WeatherPrediction/Weather%20EDA%20-%20soft%20prediction.ipynb#ch0000033?line=2'>3</a>\u001b[0m                     m\u001b[39m=\u001b[39;49m\u001b[39m12\u001b[39;49m, max_order\u001b[39m=\u001b[39;49m\u001b[39m6\u001b[39;49m)\n\u001b[0;32m      <a href='vscode-notebook-cell:/c%3A/Users/hlmq/OneDrive%20-%20Chevron/code/WeatherPrediction/Weather%20EDA%20-%20soft%20prediction.ipynb#ch0000033?line=3'>4</a>\u001b[0m \u001b[39mprint\u001b[39m(fit\u001b[39m.\u001b[39msummary())\n",
      "File \u001b[1;32m~\\AppData\\Roaming\\Python\\Python310\\site-packages\\pmdarima\\arima\\auto.py:522\u001b[0m, in \u001b[0;36mauto_arima\u001b[1;34m(y, X, start_p, d, start_q, max_p, max_d, max_q, start_P, D, start_Q, max_P, max_D, max_Q, max_order, m, seasonal, stationary, information_criterion, alpha, test, seasonal_test, stepwise, n_jobs, start_params, trend, method, maxiter, offset_test_args, seasonal_test_args, suppress_warnings, error_action, trace, random, random_state, n_fits, return_valid_fits, out_of_sample_size, scoring, scoring_args, with_intercept, sarimax_kwargs, **fit_args)\u001b[0m\n\u001b[0;32m    <a href='file:///c%3A/Users/hlmq/AppData/Roaming/Python/Python310/site-packages/pmdarima/arima/auto.py?line=519'>520</a>\u001b[0m \u001b[39m# m must be > 1 for nsdiffs\u001b[39;00m\n\u001b[0;32m    <a href='file:///c%3A/Users/hlmq/AppData/Roaming/Python/Python310/site-packages/pmdarima/arima/auto.py?line=520'>521</a>\u001b[0m \u001b[39melif\u001b[39;00m D \u001b[39mis\u001b[39;00m \u001b[39mNone\u001b[39;00m:  \u001b[39m# we don't have a D yet and we need one (seasonal)\u001b[39;00m\n\u001b[1;32m--> <a href='file:///c%3A/Users/hlmq/AppData/Roaming/Python/Python310/site-packages/pmdarima/arima/auto.py?line=521'>522</a>\u001b[0m     D \u001b[39m=\u001b[39m nsdiffs(xx, m\u001b[39m=\u001b[39mm, test\u001b[39m=\u001b[39mseasonal_test, max_D\u001b[39m=\u001b[39mmax_D,\n\u001b[0;32m    <a href='file:///c%3A/Users/hlmq/AppData/Roaming/Python/Python310/site-packages/pmdarima/arima/auto.py?line=522'>523</a>\u001b[0m                 \u001b[39m*\u001b[39m\u001b[39m*\u001b[39mseasonal_test_args)\n\u001b[0;32m    <a href='file:///c%3A/Users/hlmq/AppData/Roaming/Python/Python310/site-packages/pmdarima/arima/auto.py?line=524'>525</a>\u001b[0m     \u001b[39mif\u001b[39;00m D \u001b[39m>\u001b[39m \u001b[39m0\u001b[39m \u001b[39mand\u001b[39;00m X \u001b[39mis\u001b[39;00m \u001b[39mnot\u001b[39;00m \u001b[39mNone\u001b[39;00m:\n\u001b[0;32m    <a href='file:///c%3A/Users/hlmq/AppData/Roaming/Python/Python310/site-packages/pmdarima/arima/auto.py?line=525'>526</a>\u001b[0m         diffxreg \u001b[39m=\u001b[39m diff(X, differences\u001b[39m=\u001b[39mD, lag\u001b[39m=\u001b[39mm)\n",
      "File \u001b[1;32m~\\AppData\\Roaming\\Python\\Python310\\site-packages\\pmdarima\\arima\\utils.py:106\u001b[0m, in \u001b[0;36mnsdiffs\u001b[1;34m(x, m, max_D, test, **kwargs)\u001b[0m\n\u001b[0;32m    <a href='file:///c%3A/Users/hlmq/AppData/Roaming/Python/Python310/site-packages/pmdarima/arima/utils.py?line=102'>103</a>\u001b[0m     \u001b[39mreturn\u001b[39;00m \u001b[39m0\u001b[39m\n\u001b[0;32m    <a href='file:///c%3A/Users/hlmq/AppData/Roaming/Python/Python310/site-packages/pmdarima/arima/utils.py?line=104'>105</a>\u001b[0m D \u001b[39m=\u001b[39m \u001b[39m0\u001b[39m\n\u001b[1;32m--> <a href='file:///c%3A/Users/hlmq/AppData/Roaming/Python/Python310/site-packages/pmdarima/arima/utils.py?line=105'>106</a>\u001b[0m dodiff \u001b[39m=\u001b[39m testfunc(x)\n\u001b[0;32m    <a href='file:///c%3A/Users/hlmq/AppData/Roaming/Python/Python310/site-packages/pmdarima/arima/utils.py?line=106'>107</a>\u001b[0m \u001b[39mwhile\u001b[39;00m dodiff \u001b[39m==\u001b[39m \u001b[39m1\u001b[39m \u001b[39mand\u001b[39;00m D \u001b[39m<\u001b[39m max_D:\n\u001b[0;32m    <a href='file:///c%3A/Users/hlmq/AppData/Roaming/Python/Python310/site-packages/pmdarima/arima/utils.py?line=107'>108</a>\u001b[0m     D \u001b[39m+\u001b[39m\u001b[39m=\u001b[39m \u001b[39m1\u001b[39m\n",
      "File \u001b[1;32m~\\AppData\\Roaming\\Python\\Python310\\site-packages\\pmdarima\\arima\\seasonality.py:592\u001b[0m, in \u001b[0;36mOCSBTest.estimate_seasonal_differencing_term\u001b[1;34m(self, x)\u001b[0m\n\u001b[0;32m    <a href='file:///c%3A/Users/hlmq/AppData/Roaming/Python/Python310/site-packages/pmdarima/arima/seasonality.py?line=588'>589</a>\u001b[0m x \u001b[39m=\u001b[39m check_endog(x, dtype\u001b[39m=\u001b[39mDTYPE)\n\u001b[0;32m    <a href='file:///c%3A/Users/hlmq/AppData/Roaming/Python/Python310/site-packages/pmdarima/arima/seasonality.py?line=590'>591</a>\u001b[0m \u001b[39m# Get the critical value for m\u001b[39;00m\n\u001b[1;32m--> <a href='file:///c%3A/Users/hlmq/AppData/Roaming/Python/Python310/site-packages/pmdarima/arima/seasonality.py?line=591'>592</a>\u001b[0m stat \u001b[39m=\u001b[39m \u001b[39mself\u001b[39;49m\u001b[39m.\u001b[39;49m_compute_test_statistic(x)\n\u001b[0;32m    <a href='file:///c%3A/Users/hlmq/AppData/Roaming/Python/Python310/site-packages/pmdarima/arima/seasonality.py?line=592'>593</a>\u001b[0m crit_val \u001b[39m=\u001b[39m \u001b[39mself\u001b[39m\u001b[39m.\u001b[39m_calc_ocsb_crit_val(\u001b[39mself\u001b[39m\u001b[39m.\u001b[39mm)\n\u001b[0;32m    <a href='file:///c%3A/Users/hlmq/AppData/Roaming/Python/Python310/site-packages/pmdarima/arima/seasonality.py?line=593'>594</a>\u001b[0m \u001b[39mreturn\u001b[39;00m \u001b[39mint\u001b[39m(stat \u001b[39m>\u001b[39m crit_val)\n",
      "File \u001b[1;32m~\\AppData\\Roaming\\Python\\Python310\\site-packages\\pmdarima\\arima\\seasonality.py:532\u001b[0m, in \u001b[0;36mOCSBTest._compute_test_statistic\u001b[1;34m(self, x)\u001b[0m\n\u001b[0;32m    <a href='file:///c%3A/Users/hlmq/AppData/Roaming/Python/Python310/site-packages/pmdarima/arima/seasonality.py?line=529'>530</a>\u001b[0m \u001b[39mfor\u001b[39;00m lag_term \u001b[39min\u001b[39;00m \u001b[39mrange\u001b[39m(\u001b[39m1\u001b[39m, maxlag \u001b[39m+\u001b[39m \u001b[39m1\u001b[39m):  \u001b[39m# 1 -> maxlag (incl)\u001b[39;00m\n\u001b[0;32m    <a href='file:///c%3A/Users/hlmq/AppData/Roaming/Python/Python310/site-packages/pmdarima/arima/seasonality.py?line=530'>531</a>\u001b[0m     \u001b[39mtry\u001b[39;00m:\n\u001b[1;32m--> <a href='file:///c%3A/Users/hlmq/AppData/Roaming/Python/Python310/site-packages/pmdarima/arima/seasonality.py?line=531'>532</a>\u001b[0m         fit \u001b[39m=\u001b[39m \u001b[39mself\u001b[39;49m\u001b[39m.\u001b[39;49m_fit_ocsb(x, m, lag_term, maxlag)\n\u001b[0;32m    <a href='file:///c%3A/Users/hlmq/AppData/Roaming/Python/Python310/site-packages/pmdarima/arima/seasonality.py?line=532'>533</a>\u001b[0m         fits\u001b[39m.\u001b[39mappend(fit)\n\u001b[0;32m    <a href='file:///c%3A/Users/hlmq/AppData/Roaming/Python/Python310/site-packages/pmdarima/arima/seasonality.py?line=533'>534</a>\u001b[0m         icvals\u001b[39m.\u001b[39mappend(icfunc(fit))\n",
      "File \u001b[1;32m~\\AppData\\Roaming\\Python\\Python310\\site-packages\\pmdarima\\arima\\seasonality.py:493\u001b[0m, in \u001b[0;36mOCSBTest._fit_ocsb\u001b[1;34m(x, m, lag, max_lag)\u001b[0m\n\u001b[0;32m    <a href='file:///c%3A/Users/hlmq/AppData/Roaming/Python/Python310/site-packages/pmdarima/arima/seasonality.py?line=490'>491</a>\u001b[0m z4_y \u001b[39m=\u001b[39m y_first_order_diff[lag:]  \u001b[39m# new endog\u001b[39;00m\n\u001b[0;32m    <a href='file:///c%3A/Users/hlmq/AppData/Roaming/Python/Python310/site-packages/pmdarima/arima/seasonality.py?line=491'>492</a>\u001b[0m z4_lag \u001b[39m=\u001b[39m OCSBTest\u001b[39m.\u001b[39m_gen_lags(y_first_order_diff, lag)[:z4_y\u001b[39m.\u001b[39mshape[\u001b[39m0\u001b[39m], :]\n\u001b[1;32m--> <a href='file:///c%3A/Users/hlmq/AppData/Roaming/Python/Python310/site-packages/pmdarima/arima/seasonality.py?line=492'>493</a>\u001b[0m z4_preds \u001b[39m=\u001b[39m ar_fit\u001b[39m.\u001b[39;49mpredict(add_constant(z4_lag))  \u001b[39m# preds\u001b[39;00m\n\u001b[0;32m    <a href='file:///c%3A/Users/hlmq/AppData/Roaming/Python/Python310/site-packages/pmdarima/arima/seasonality.py?line=493'>494</a>\u001b[0m z4 \u001b[39m=\u001b[39m z4_y \u001b[39m-\u001b[39m z4_preds  \u001b[39m# test residuals\u001b[39;00m\n\u001b[0;32m    <a href='file:///c%3A/Users/hlmq/AppData/Roaming/Python/Python310/site-packages/pmdarima/arima/seasonality.py?line=495'>496</a>\u001b[0m \u001b[39m# Create Z5. Looks odd because y and lag depend on each other and go\u001b[39;00m\n\u001b[0;32m    <a href='file:///c%3A/Users/hlmq/AppData/Roaming/Python/Python310/site-packages/pmdarima/arima/seasonality.py?line=496'>497</a>\u001b[0m \u001b[39m# back and forth for two stages\u001b[39;00m\n",
      "File \u001b[1;32m~\\AppData\\Roaming\\Python\\Python310\\site-packages\\statsmodels\\base\\model.py:1159\u001b[0m, in \u001b[0;36mResults.predict\u001b[1;34m(self, exog, transform, *args, **kwargs)\u001b[0m\n\u001b[0;32m   <a href='file:///c%3A/Users/hlmq/AppData/Roaming/Python/Python310/site-packages/statsmodels/base/model.py?line=1155'>1156</a>\u001b[0m         exog \u001b[39m=\u001b[39m exog[:, \u001b[39mNone\u001b[39;00m]\n\u001b[0;32m   <a href='file:///c%3A/Users/hlmq/AppData/Roaming/Python/Python310/site-packages/statsmodels/base/model.py?line=1156'>1157</a>\u001b[0m     exog \u001b[39m=\u001b[39m np\u001b[39m.\u001b[39matleast_2d(exog)  \u001b[39m# needed in count model shape[1]\u001b[39;00m\n\u001b[1;32m-> <a href='file:///c%3A/Users/hlmq/AppData/Roaming/Python/Python310/site-packages/statsmodels/base/model.py?line=1158'>1159</a>\u001b[0m predict_results \u001b[39m=\u001b[39m \u001b[39mself\u001b[39m\u001b[39m.\u001b[39mmodel\u001b[39m.\u001b[39mpredict(\u001b[39mself\u001b[39m\u001b[39m.\u001b[39mparams, exog, \u001b[39m*\u001b[39margs,\n\u001b[0;32m   <a href='file:///c%3A/Users/hlmq/AppData/Roaming/Python/Python310/site-packages/statsmodels/base/model.py?line=1159'>1160</a>\u001b[0m                                      \u001b[39m*\u001b[39m\u001b[39m*\u001b[39mkwargs)\n\u001b[0;32m   <a href='file:///c%3A/Users/hlmq/AppData/Roaming/Python/Python310/site-packages/statsmodels/base/model.py?line=1161'>1162</a>\u001b[0m \u001b[39mif\u001b[39;00m exog_index \u001b[39mis\u001b[39;00m \u001b[39mnot\u001b[39;00m \u001b[39mNone\u001b[39;00m \u001b[39mand\u001b[39;00m \u001b[39mnot\u001b[39;00m \u001b[39mhasattr\u001b[39m(predict_results,\n\u001b[0;32m   <a href='file:///c%3A/Users/hlmq/AppData/Roaming/Python/Python310/site-packages/statsmodels/base/model.py?line=1162'>1163</a>\u001b[0m                                           \u001b[39m'\u001b[39m\u001b[39mpredicted_values\u001b[39m\u001b[39m'\u001b[39m):\n\u001b[0;32m   <a href='file:///c%3A/Users/hlmq/AppData/Roaming/Python/Python310/site-packages/statsmodels/base/model.py?line=1163'>1164</a>\u001b[0m     \u001b[39mif\u001b[39;00m predict_results\u001b[39m.\u001b[39mndim \u001b[39m==\u001b[39m \u001b[39m1\u001b[39m:\n",
      "File \u001b[1;32m~\\AppData\\Roaming\\Python\\Python310\\site-packages\\statsmodels\\regression\\linear_model.py:381\u001b[0m, in \u001b[0;36mRegressionModel.predict\u001b[1;34m(self, params, exog)\u001b[0m\n\u001b[0;32m    <a href='file:///c%3A/Users/hlmq/AppData/Roaming/Python/Python310/site-packages/statsmodels/regression/linear_model.py?line=377'>378</a>\u001b[0m \u001b[39mif\u001b[39;00m exog \u001b[39mis\u001b[39;00m \u001b[39mNone\u001b[39;00m:\n\u001b[0;32m    <a href='file:///c%3A/Users/hlmq/AppData/Roaming/Python/Python310/site-packages/statsmodels/regression/linear_model.py?line=378'>379</a>\u001b[0m     exog \u001b[39m=\u001b[39m \u001b[39mself\u001b[39m\u001b[39m.\u001b[39mexog\n\u001b[1;32m--> <a href='file:///c%3A/Users/hlmq/AppData/Roaming/Python/Python310/site-packages/statsmodels/regression/linear_model.py?line=380'>381</a>\u001b[0m \u001b[39mreturn\u001b[39;00m np\u001b[39m.\u001b[39;49mdot(exog, params)\n",
      "File \u001b[1;32m<__array_function__ internals>:180\u001b[0m, in \u001b[0;36mdot\u001b[1;34m(*args, **kwargs)\u001b[0m\n",
      "\u001b[1;31mValueError\u001b[0m: shapes (4,2) and (1,) not aligned: 2 (dim 1) != 1 (dim 0)"
     ]
    }
   ],
   "source": [
    "fit = pm.auto_arima(df1, seasonal=True, \n",
    "                    stepwise=True, error_action=\"ignore\", \n",
    "                    m=12, max_order=6)\n",
    "print(fit.summary())"
   ]
  },
  {
   "cell_type": "code",
   "execution_count": null,
   "metadata": {
    "ExecuteTime": {
     "end_time": "2021-02-18T17:35:26.790661Z",
     "start_time": "2021-02-18T17:35:26.769601Z"
    },
    "hidden": true
   },
   "outputs": [],
   "source": [
    "points_to_predict = 5\n",
    "predicted = fit.predict(points_to_predict)"
   ]
  },
  {
   "cell_type": "code",
   "execution_count": null,
   "metadata": {
    "ExecuteTime": {
     "end_time": "2021-02-18T17:35:29.528159Z",
     "start_time": "2021-02-18T17:35:29.512242Z"
    },
    "hidden": true
   },
   "outputs": [],
   "source": [
    "# Create Date column\n",
    "date = create_dates_weeks(df1, points_to_predict)\n",
    "# Merge Date column and predictions\n",
    "predictions = df_constructor_predictions(date, predicted)\n",
    "# Set Date column as index\n",
    "predictions = date_index(predictions)"
   ]
  },
  {
   "cell_type": "code",
   "execution_count": null,
   "metadata": {
    "ExecuteTime": {
     "end_time": "2021-02-18T17:35:31.772993Z",
     "start_time": "2021-02-18T17:35:31.272314Z"
    },
    "hidden": true
   },
   "outputs": [],
   "source": [
    "# Plot input data + prediction on graph\n",
    "fig, axes = plt.subplots(1, 1, figsize=(16, 12))\n",
    "axes.plot(df1, color=\"blue\")\n",
    "axes.plot(predictions, color=\"green\")"
   ]
  },
  {
   "cell_type": "markdown",
   "metadata": {
    "heading_collapsed": true
   },
   "source": [
    "# VAR"
   ]
  },
  {
   "cell_type": "code",
   "execution_count": null,
   "metadata": {
    "hidden": true
   },
   "outputs": [],
   "source": [
    "# Most of this is not tested/working\n",
    "# Not sure of correct dataset to run through\n",
    "# Why am i graphing this twice in the same workflow?\n",
    "# Code may be out of order\n"
   ]
  },
  {
   "cell_type": "code",
   "execution_count": null,
   "metadata": {
    "ExecuteTime": {
     "end_time": "2021-02-18T17:38:30.700112Z",
     "start_time": "2021-02-18T17:38:30.633912Z"
    },
    "hidden": true
   },
   "outputs": [],
   "source": [
    "test = df_2018\n",
    "\n",
    "test = datetime_datatype(test)\n",
    "test = date_index(test)"
   ]
  },
  {
   "cell_type": "code",
   "execution_count": null,
   "metadata": {
    "ExecuteTime": {
     "end_time": "2021-02-18T17:38:34.246262Z",
     "start_time": "2021-02-18T17:38:31.809274Z"
    },
    "hidden": true
   },
   "outputs": [],
   "source": [
    "from statsmodels.tsa.api import VAR\n",
    "\n",
    "num_vars = test.shape[1]\n",
    "fig, axes = plt.subplots(num_vars ,1, figsize=(20, 16))\n",
    "for i in range(num_vars):\n",
    "    col = test.columns[i]\n",
    "    axes[i].plot(test[col])\n",
    "    #Removing ticks as they are very cluttered\n",
    "    axes[i].set_xticks([],[])\n",
    "    axes[i].set_title(col)"
   ]
  },
  {
   "cell_type": "code",
   "execution_count": null,
   "metadata": {
    "hidden": true
   },
   "outputs": [],
   "source": [
    "model = VAR(test)\n",
    "var_selected = model.select_order(maxlags=10)\n",
    "var_selected.summary()"
   ]
  },
  {
   "cell_type": "code",
   "execution_count": null,
   "metadata": {
    "hidden": true
   },
   "outputs": [],
   "source": [
    "model_fitted = model.fit(3)\n",
    "model_fitted.summary()\n",
    "points_to_predict = 10\n",
    "predicted = model_fitted.forecast(forecast_input, points_to_predict)"
   ]
  },
  {
   "cell_type": "code",
   "execution_count": null,
   "metadata": {
    "hidden": true
   },
   "outputs": [],
   "source": [
    "lag_order = model_fitted.k_ar\n",
    "forecast_input = test.values[-lag_order:]"
   ]
  },
  {
   "cell_type": "code",
   "execution_count": null,
   "metadata": {
    "hidden": true
   },
   "outputs": [],
   "source": [
    "# Create Date column\n",
    "date = create_dates_days(test, points_to_predict)"
   ]
  },
  {
   "cell_type": "code",
   "execution_count": null,
   "metadata": {
    "hidden": true
   },
   "outputs": [],
   "source": [
    "# Merge Date column and predictions\n",
    "predictions = df_constructor_predictions(date, predicted)\n",
    "# Set Date column as index\n",
    "predictions = date_index(predictions)"
   ]
  },
  {
   "cell_type": "code",
   "execution_count": null,
   "metadata": {
    "hidden": true
   },
   "outputs": [],
   "source": [
    "fig, axes = plt.subplots(num_vars ,1, figsize=(16, 12))\n",
    "for i in range(num_vars):\n",
    "    col = test.columns[i]\n",
    "    axes[i].plot(test[col], color=\"blue\")\n",
    "    axes[i].plot(predicted_index,predicted[:,i], color=\"green\")\n",
    "    #Removing ticks as they are very cluttered\n",
    "    axes[i].set_xticks([],[])\n",
    "    axes[i].set_title(col)"
   ]
  },
  {
   "cell_type": "markdown",
   "metadata": {
    "heading_collapsed": true
   },
   "source": [
    "# Appendix A: Background Info"
   ]
  },
  {
   "cell_type": "markdown",
   "metadata": {
    "ExecuteTime": {
     "end_time": "2021-02-18T17:43:03.222521Z",
     "start_time": "2021-02-18T17:43:03.204569Z"
    },
    "hidden": true
   },
   "source": [
    "__Stationarity__\n",
    "- a stationary time series is one whose properties do not depend on the time at which the series is observed\n",
    "- stationary is a short way of saying that the mean and variance of the series do not vary over time\n",
    "- a time series for which there is no trend and no seasonality\n",
    "- a time series showing cyclical behavior can be said to be stationary, as the length of said cycles are stochastic and unknown\n",
    "\n",
    "\n",
    "__Trend__\n",
    "\n",
    "__Seasonality__\n",
    "\n",
    "__Cyclical__ \n"
   ]
  },
  {
   "cell_type": "markdown",
   "metadata": {
    "hidden": true
   },
   "source": [
    "## __ARIMA__ \n",
    "Auto Regressive Integrated Moving Average\n",
    "- Integrates differencing into the modeling process\n",
    "\n",
    "- 3 Parts: __P__, __D__, __Q__\n",
    "- __p__ - autoregressive part (regression upon oneself). number of lagged values of y(t) to use as predictors\n",
    "- __d__ - the degree of differencing initially performed on the data.  Apply on input data, or first order diff, etc.\n",
    "- __q__ - weighted average of the past q forecast __errors__"
   ]
  },
  {
   "cell_type": "markdown",
   "metadata": {
    "hidden": true
   },
   "source": [
    "## How to Read ACF Plot\n",
    "- Y axis is value for autocorrelation function\n",
    "- X axis is the lag value\n",
    "- Dotted lines are the 95% confidence interval (inside the lines)\n",
    "- If bars extend outside of the confidence interval, there is evidence of autocorrelation\n",
    "- One way to fix autocorrelation, and therefore force stationarity, is to difference the values\n",
    "- At time T(1), subtract time T(0) <- called first difference, sometimes more than first or transformation (log) may be necessary"
   ]
  },
  {
   "cell_type": "code",
   "execution_count": null,
   "metadata": {
    "hidden": true
   },
   "outputs": [],
   "source": []
  },
  {
   "cell_type": "markdown",
   "metadata": {
    "heading_collapsed": true
   },
   "source": [
    "# Appendix B: Project Info"
   ]
  },
  {
   "cell_type": "markdown",
   "metadata": {
    "hidden": true
   },
   "source": [
    "Break out all of this code\n",
    "\n",
    "- Have a Notebook that houses packages, functions, initial time series plots, descriptive statistics\n",
    "- Have a Spyder that houses packages, functions, modeling, post prediction work"
   ]
  },
  {
   "cell_type": "markdown",
   "metadata": {
    "heading_collapsed": true
   },
   "source": [
    "# Additional Functions\n",
    "\n",
    "- accept a current date and go back [integer] number of days\n",
    "- accept a start date and go back [integer] number of days"
   ]
  },
  {
   "cell_type": "code",
   "execution_count": null,
   "metadata": {
    "hidden": true
   },
   "outputs": [],
   "source": [
    "current_date = datetime.today()\n",
    "current_date\n",
    "\n",
    "\n",
    "Date = datetime.strptime(current_date, \"%Y%m%d\")\n",
    "Date\n",
    "\n",
    "\n",
    "from datetime import timedelta\n",
    "\n",
    "integer = 10\n",
    "start_date = '2020-01-31'\n",
    "\n",
    "end_date = start_date + timedelta(days=integer)\n",
    "\n",
    "end_date\n",
    "\n",
    "from datetime import datetime\n",
    "from datetime import timedelta\n",
    "\n",
    "StartDate = \"20100103\"\n",
    "\n",
    "Date = datetime.strptime(StartDate, \"%Y%m%d\")\n",
    "EndDate = Date + timedelta(days=10)\n",
    "\n",
    "\n",
    "from datetime import datetime\n",
    "from datetime import timedelta\n",
    "\n",
    "start_date = '2020-01-31'\n",
    "\n",
    "start_date = datetime.strptime(start_date, \"%Y%m%d\")\n",
    "EndDate = start_date + timedelta(days=10)"
   ]
  },
  {
   "cell_type": "code",
   "execution_count": null,
   "metadata": {
    "hidden": true
   },
   "outputs": [],
   "source": []
  }
 ],
 "metadata": {
  "interpreter": {
   "hash": "369f2c481f4da34e4445cda3fffd2e751bd1c4d706f27375911949ba6bb62e1c"
  },
  "kernelspec": {
   "display_name": "Python 3.10.2 64-bit",
   "language": "python",
   "name": "python3"
  },
  "language_info": {
   "codemirror_mode": {
    "name": "ipython",
    "version": 3
   },
   "file_extension": ".py",
   "mimetype": "text/x-python",
   "name": "python",
   "nbconvert_exporter": "python",
   "pygments_lexer": "ipython3",
   "version": "3.10.2"
  },
  "toc": {
   "base_numbering": 1,
   "nav_menu": {},
   "number_sections": true,
   "sideBar": true,
   "skip_h1_title": false,
   "title_cell": "Table of Contents",
   "title_sidebar": "Contents",
   "toc_cell": false,
   "toc_position": {},
   "toc_section_display": true,
   "toc_window_display": false
  },
  "varInspector": {
   "cols": {
    "lenName": 16,
    "lenType": 16,
    "lenVar": 40
   },
   "kernels_config": {
    "python": {
     "delete_cmd_postfix": "",
     "delete_cmd_prefix": "del ",
     "library": "var_list.py",
     "varRefreshCmd": "print(var_dic_list())"
    },
    "r": {
     "delete_cmd_postfix": ") ",
     "delete_cmd_prefix": "rm(",
     "library": "var_list.r",
     "varRefreshCmd": "cat(var_dic_list()) "
    }
   },
   "types_to_exclude": [
    "module",
    "function",
    "builtin_function_or_method",
    "instance",
    "_Feature"
   ],
   "window_display": false
  }
 },
 "nbformat": 4,
 "nbformat_minor": 4
}
