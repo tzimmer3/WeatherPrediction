{
 "cells": [
  {
   "cell_type": "code",
   "execution_count": null,
   "metadata": {},
   "outputs": [],
   "source": [
    "import pandas as pd\n",
    "import numpy as np"
   ]
  },
  {
   "cell_type": "code",
   "execution_count": null,
   "metadata": {},
   "outputs": [],
   "source": [
    "filepath = \"C:\\\\Users\\\\hlmq\\\\OneDrive - Chevron\\\\Data\\\\WeatherProject\\\\\"\n",
    "\n",
    "#df_2018 = pd.read_csv(str(filepath)+'2018.csv')\n",
    "#df_2019 = pd.read_csv(str(filepath)+'2019.csv')\n",
    "#df_2020 = pd.read_csv(str(filepath)+'2020.csv')\n",
    "#df_2021 = pd.read_csv(str(filepath)+'2021.csv')\n",
    "allDates = pd.read_csv(str(filepath)+'allDates.csv')"
   ]
  },
  {
   "cell_type": "code",
   "execution_count": null,
   "metadata": {},
   "outputs": [],
   "source": [
    "df = allDates"
   ]
  },
  {
   "cell_type": "markdown",
   "metadata": {},
   "source": [
    "# Features"
   ]
  },
  {
   "cell_type": "code",
   "execution_count": null,
   "metadata": {},
   "outputs": [],
   "source": [
    "# Construct binary column for precipitation\n",
    "\n",
    "df.loc[df['Precipitation'] < .1, 'Precipitation_Bin'] = 0\n",
    "df.loc[df['Precipitation'] > .1, 'Precipitation_Bin'] = 1"
   ]
  },
  {
   "cell_type": "code",
   "execution_count": null,
   "metadata": {},
   "outputs": [],
   "source": []
  },
  {
   "cell_type": "markdown",
   "metadata": {},
   "source": [
    "# Export Dataset"
   ]
  },
  {
   "cell_type": "code",
   "execution_count": null,
   "metadata": {},
   "outputs": [],
   "source": [
    "# Modify filepath and file name\n",
    "\n",
    "filepath = \"C:\\\\Users\\\\hlmq\\\\OneDrive - Chevron\\\\Data\\\\WeatherProject\\\\\"\n",
    "filename = \"\"\n",
    "\n",
    "df.to_csv(str(filepath)+str(filename))"
   ]
  }
 ],
 "metadata": {
  "language_info": {
   "name": "python"
  },
  "orig_nbformat": 4
 },
 "nbformat": 4,
 "nbformat_minor": 2
}
